{
  "cells": [
    {
      "cell_type": "code",
      "execution_count": 1,
      "metadata": {
        "colab": {
          "base_uri": "https://localhost:8080/"
        },
        "collapsed": true,
        "id": "sgrTvjjsW-t-",
        "outputId": "10376309-2091-483d-f5fb-1b75c68ad38c"
      },
      "outputs": [
        {
          "name": "stdout",
          "output_type": "stream",
          "text": [
            "Cloning into 'chagas'...\n",
            "remote: Enumerating objects: 529, done.\u001b[K\n",
            "remote: Counting objects: 100% (91/91), done.\u001b[K\n",
            "remote: Compressing objects: 100% (64/64), done.\u001b[K\n",
            "remote: Total 529 (delta 47), reused 58 (delta 27), pack-reused 438 (from 1)\u001b[K\n",
            "Receiving objects: 100% (529/529), 3.40 MiB | 13.05 MiB/s, done.\n",
            "Resolving deltas: 100% (261/261), done.\n",
            "Requirement already satisfied: numpy==2.0.2 in /usr/local/lib/python3.11/dist-packages (from -r chagas/requirements.txt (line 1)) (2.0.2)\n",
            "Requirement already satisfied: pandas==2.2.2 in /usr/local/lib/python3.11/dist-packages (from -r chagas/requirements.txt (line 2)) (2.2.2)\n",
            "Collecting h5py==3.12.1 (from -r chagas/requirements.txt (line 3))\n",
            "  Downloading h5py-3.12.1-cp311-cp311-manylinux_2_17_x86_64.manylinux2014_x86_64.whl.metadata (2.5 kB)\n",
            "Collecting scikit-learn==1.6.0 (from -r chagas/requirements.txt (line 4))\n",
            "  Downloading scikit_learn-1.6.0-cp311-cp311-manylinux_2_17_x86_64.manylinux2014_x86_64.whl.metadata (18 kB)\n",
            "Collecting wfdb==4.1.2 (from -r chagas/requirements.txt (line 5))\n",
            "  Downloading wfdb-4.1.2-py3-none-any.whl.metadata (4.3 kB)\n",
            "Collecting joblib==1.4.2 (from -r chagas/requirements.txt (line 6))\n",
            "  Downloading joblib-1.4.2-py3-none-any.whl.metadata (5.4 kB)\n",
            "Requirement already satisfied: python-dateutil>=2.8.2 in /usr/local/lib/python3.11/dist-packages (from pandas==2.2.2->-r chagas/requirements.txt (line 2)) (2.9.0.post0)\n",
            "Requirement already satisfied: pytz>=2020.1 in /usr/local/lib/python3.11/dist-packages (from pandas==2.2.2->-r chagas/requirements.txt (line 2)) (2025.2)\n",
            "Requirement already satisfied: tzdata>=2022.7 in /usr/local/lib/python3.11/dist-packages (from pandas==2.2.2->-r chagas/requirements.txt (line 2)) (2025.2)\n",
            "Requirement already satisfied: scipy>=1.6.0 in /usr/local/lib/python3.11/dist-packages (from scikit-learn==1.6.0->-r chagas/requirements.txt (line 4)) (1.15.3)\n",
            "Requirement already satisfied: threadpoolctl>=3.1.0 in /usr/local/lib/python3.11/dist-packages (from scikit-learn==1.6.0->-r chagas/requirements.txt (line 4)) (3.6.0)\n",
            "Requirement already satisfied: SoundFile>=0.10.0 in /usr/local/lib/python3.11/dist-packages (from wfdb==4.1.2->-r chagas/requirements.txt (line 5)) (0.13.1)\n",
            "Requirement already satisfied: matplotlib>=3.2.2 in /usr/local/lib/python3.11/dist-packages (from wfdb==4.1.2->-r chagas/requirements.txt (line 5)) (3.10.0)\n",
            "Requirement already satisfied: requests>=2.8.1 in /usr/local/lib/python3.11/dist-packages (from wfdb==4.1.2->-r chagas/requirements.txt (line 5)) (2.32.3)\n",
            "Requirement already satisfied: contourpy>=1.0.1 in /usr/local/lib/python3.11/dist-packages (from matplotlib>=3.2.2->wfdb==4.1.2->-r chagas/requirements.txt (line 5)) (1.3.2)\n",
            "Requirement already satisfied: cycler>=0.10 in /usr/local/lib/python3.11/dist-packages (from matplotlib>=3.2.2->wfdb==4.1.2->-r chagas/requirements.txt (line 5)) (0.12.1)\n",
            "Requirement already satisfied: fonttools>=4.22.0 in /usr/local/lib/python3.11/dist-packages (from matplotlib>=3.2.2->wfdb==4.1.2->-r chagas/requirements.txt (line 5)) (4.58.4)\n",
            "Requirement already satisfied: kiwisolver>=1.3.1 in /usr/local/lib/python3.11/dist-packages (from matplotlib>=3.2.2->wfdb==4.1.2->-r chagas/requirements.txt (line 5)) (1.4.8)\n",
            "Requirement already satisfied: packaging>=20.0 in /usr/local/lib/python3.11/dist-packages (from matplotlib>=3.2.2->wfdb==4.1.2->-r chagas/requirements.txt (line 5)) (24.2)\n",
            "Requirement already satisfied: pillow>=8 in /usr/local/lib/python3.11/dist-packages (from matplotlib>=3.2.2->wfdb==4.1.2->-r chagas/requirements.txt (line 5)) (11.2.1)\n",
            "Requirement already satisfied: pyparsing>=2.3.1 in /usr/local/lib/python3.11/dist-packages (from matplotlib>=3.2.2->wfdb==4.1.2->-r chagas/requirements.txt (line 5)) (3.2.3)\n",
            "Requirement already satisfied: six>=1.5 in /usr/local/lib/python3.11/dist-packages (from python-dateutil>=2.8.2->pandas==2.2.2->-r chagas/requirements.txt (line 2)) (1.17.0)\n",
            "Requirement already satisfied: charset-normalizer<4,>=2 in /usr/local/lib/python3.11/dist-packages (from requests>=2.8.1->wfdb==4.1.2->-r chagas/requirements.txt (line 5)) (3.4.2)\n",
            "Requirement already satisfied: idna<4,>=2.5 in /usr/local/lib/python3.11/dist-packages (from requests>=2.8.1->wfdb==4.1.2->-r chagas/requirements.txt (line 5)) (3.10)\n",
            "Requirement already satisfied: urllib3<3,>=1.21.1 in /usr/local/lib/python3.11/dist-packages (from requests>=2.8.1->wfdb==4.1.2->-r chagas/requirements.txt (line 5)) (2.4.0)\n",
            "Requirement already satisfied: certifi>=2017.4.17 in /usr/local/lib/python3.11/dist-packages (from requests>=2.8.1->wfdb==4.1.2->-r chagas/requirements.txt (line 5)) (2025.6.15)\n",
            "Requirement already satisfied: cffi>=1.0 in /usr/local/lib/python3.11/dist-packages (from SoundFile>=0.10.0->wfdb==4.1.2->-r chagas/requirements.txt (line 5)) (1.17.1)\n",
            "Requirement already satisfied: pycparser in /usr/local/lib/python3.11/dist-packages (from cffi>=1.0->SoundFile>=0.10.0->wfdb==4.1.2->-r chagas/requirements.txt (line 5)) (2.22)\n",
            "Downloading h5py-3.12.1-cp311-cp311-manylinux_2_17_x86_64.manylinux2014_x86_64.whl (5.5 MB)\n",
            "\u001b[2K   \u001b[90m━━━━━━━━━━━━━━━━━━━━━━━━━━━━━━━━━━━━━━━━\u001b[0m \u001b[32m5.5/5.5 MB\u001b[0m \u001b[31m45.3 MB/s\u001b[0m eta \u001b[36m0:00:00\u001b[0m\n",
            "\u001b[?25hDownloading scikit_learn-1.6.0-cp311-cp311-manylinux_2_17_x86_64.manylinux2014_x86_64.whl (13.5 MB)\n",
            "\u001b[2K   \u001b[90m━━━━━━━━━━━━━━━━━━━━━━━━━━━━━━━━━━━━━━━━\u001b[0m \u001b[32m13.5/13.5 MB\u001b[0m \u001b[31m15.9 MB/s\u001b[0m eta \u001b[36m0:00:00\u001b[0m\n",
            "\u001b[?25hDownloading wfdb-4.1.2-py3-none-any.whl (159 kB)\n",
            "\u001b[2K   \u001b[90m━━━━━━━━━━━━━━━━━━━━━━━━━━━━━━━━━━━━━━━━\u001b[0m \u001b[32m160.0/160.0 kB\u001b[0m \u001b[31m17.6 MB/s\u001b[0m eta \u001b[36m0:00:00\u001b[0m\n",
            "\u001b[?25hDownloading joblib-1.4.2-py3-none-any.whl (301 kB)\n",
            "\u001b[2K   \u001b[90m━━━━━━━━━━━━━━━━━━━━━━━━━━━━━━━━━━━━━━━━\u001b[0m \u001b[32m301.8/301.8 kB\u001b[0m \u001b[31m33.7 MB/s\u001b[0m eta \u001b[36m0:00:00\u001b[0m\n",
            "\u001b[?25hInstalling collected packages: joblib, h5py, scikit-learn, wfdb\n",
            "  Attempting uninstall: joblib\n",
            "    Found existing installation: joblib 1.5.1\n",
            "    Uninstalling joblib-1.5.1:\n",
            "      Successfully uninstalled joblib-1.5.1\n",
            "  Attempting uninstall: h5py\n",
            "    Found existing installation: h5py 3.14.0\n",
            "    Uninstalling h5py-3.14.0:\n",
            "      Successfully uninstalled h5py-3.14.0\n",
            "  Attempting uninstall: scikit-learn\n",
            "    Found existing installation: scikit-learn 1.6.1\n",
            "    Uninstalling scikit-learn-1.6.1:\n",
            "      Successfully uninstalled scikit-learn-1.6.1\n",
            "Successfully installed h5py-3.12.1 joblib-1.4.2 scikit-learn-1.6.0 wfdb-4.1.2\n"
          ]
        },
        {
          "name": "stderr",
          "output_type": "stream",
          "text": [
            "Downloading...\n",
            "From (original): https://drive.google.com/uc?id=1vK_gMI36xjdtiJjMBV7dKHurIExQs4hC\n",
            "From (redirected): https://drive.google.com/uc?id=1vK_gMI36xjdtiJjMBV7dKHurIExQs4hC&confirm=t&uuid=7e33c763-5fef-40a2-bb6e-fa974bf0e273\n",
            "To: /content/dataset.zip\n",
            "100%|██████████| 623M/623M [00:11<00:00, 52.8MB/s]\n"
          ]
        }
      ],
      "source": [
        "!git clone -b fix/preprocessing https://github.com/dokunoale/chagas.git\n",
        "!pip install -r chagas/requirements.txt\n",
        "\n",
        "# Download the dataset\n",
        "import gdown\n",
        "\n",
        "url = \"https://drive.google.com/file/d/1vK_gMI36xjdtiJjMBV7dKHurIExQs4hC/view?usp=drive_link\"\n",
        "gdown.download(url, \"dataset.zip\", quiet=False, fuzzy=True)\n",
        "!unzip -q /content/dataset.zip -d chagas/data/"
      ]
    },
    {
      "cell_type": "code",
      "execution_count": 2,
      "metadata": {
        "id": "pUOfXOB3XcEA"
      },
      "outputs": [],
      "source": [
        "import sys\n",
        "sys.path.append(\"/content/chagas/src\")\n",
        "\n",
        "import tensorflow as tf\n",
        "from tensorflow.keras.layers import Layer\n",
        "from tensorflow.keras import layers, models\n",
        "from tensorflow.keras.callbacks import EarlyStopping, ModelCheckpoint\n",
        "from tensorflow.keras.metrics import AUC"
      ]
    },
    {
      "cell_type": "markdown",
      "metadata": {},
      "source": [
        "Caricamento del dataset e preprocessing."
      ]
    },
    {
      "cell_type": "code",
      "execution_count": 3,
      "metadata": {
        "colab": {
          "base_uri": "https://localhost:8080/"
        },
        "id": "TrR3djXJBekS",
        "outputId": "7d301e3c-6e0f-4f73-c3d4-1edee3c79fd0"
      },
      "outputs": [
        {
          "name": "stderr",
          "output_type": "stream",
          "text": [
            "Loading records: 100%|██████████| 7855/7855 [00:39<00:00, 200.38record/s]\n",
            "Filtering records - filtfilt: 100%|██████████| 7855/7855 [00:41<00:00, 187.56record/s]\n",
            "Filtering records - filtfilt: 100%|██████████| 7855/7855 [00:41<00:00, 189.97record/s]\n",
            "Loading records: 100%|██████████| 1122/1122 [00:05<00:00, 201.34record/s]\n",
            "Filtering records - filtfilt: 100%|██████████| 1122/1122 [00:05<00:00, 191.66record/s]\n",
            "Filtering records - filtfilt: 100%|██████████| 1122/1122 [00:05<00:00, 191.12record/s]\n",
            "Loading records: 100%|██████████| 2245/2245 [00:11<00:00, 203.93record/s]\n",
            "Filtering records - filtfilt: 100%|██████████| 2245/2245 [00:11<00:00, 194.42record/s]\n",
            "Filtering records - filtfilt: 100%|██████████| 2245/2245 [00:11<00:00, 195.73record/s]\n"
          ]
        }
      ],
      "source": [
        "from preprocessing.tf_dataset_loader import WfdbLoader\n",
        "from preprocessing.filters import FiltfiltNoiseReducer\n",
        "\n",
        "# Carichiamo il dataset\n",
        "data_path = \"/content/chagas/data/big_splitted_dataset/\"\n",
        "\n",
        "filter = FiltfiltNoiseReducer(fs=400, iir_freq=55.0, butterworth_cutoff=5., lowpass_cutoff=30., verbose=True)\n",
        "\n",
        "train = WfdbLoader(label = 'Chagas label')\n",
        "train.add_filter(filter)\n",
        "train.add_filter(filter)\n",
        "train.add_dataset(data_path + \"train/positives\")\n",
        "train.add_dataset(data_path + \"train/negatives\")\n",
        "X_train, y_train = train.load(shuffle=True, verbose=True)\n",
        "\n",
        "validation = WfdbLoader(label = 'Chagas label')\n",
        "validation.add_filter(filter)\n",
        "validation.add_filter(filter)\n",
        "validation.add_dataset(data_path + \"val/positives\")\n",
        "validation.add_dataset(data_path + \"val/negatives\")\n",
        "X_val, y_val = validation.load(shuffle=True, verbose=True)\n",
        "\n",
        "test = WfdbLoader(label = 'Chagas label')\n",
        "test.add_filter(filter)\n",
        "test.add_filter(filter)\n",
        "test.add_dataset(data_path + \"test/positives\")\n",
        "test.add_dataset(data_path + \"test/negatives\")\n",
        "X_test, y_test = test.load(shuffle=True, verbose=True)\n",
        "\n",
        "y_test_info = test.get_metadata()"
      ]
    },
    {
      "cell_type": "markdown",
      "metadata": {
        "id": "ZTpDOW51mwtm"
      },
      "source": [
        "# Training"
      ]
    },
    {
      "cell_type": "code",
      "execution_count": null,
      "metadata": {
        "colab": {
          "base_uri": "https://localhost:8080/",
          "height": 420
        },
        "id": "UkltDM-fRax-",
        "outputId": "d2b59090-2df7-4c7a-f9bf-4f77b9323939"
      },
      "outputs": [],
      "source": [
        "# MODELLO DI ESEMPIO\n",
        "from models.layers import LightLogSpectrogram\n",
        "\n",
        "def build_cnn_model(input_shape=(2800, 12)):\n",
        "    inputs = tf.keras.Input(shape=input_shape)  # 12-lead ECG time series\n",
        "\n",
        "    # Logarithmic spectrogram\n",
        "    x = LightLogSpectrogram()(inputs)  # shape: [batch, time, freq, 12]\n",
        "\n",
        "    # Simple Conv2D block\n",
        "    x = tf.keras.layers.Conv2D(32, (3, 3), activation='relu', padding='same')(x)\n",
        "    x = tf.keras.layers.MaxPooling2D((2, 2))(x)\n",
        "    x = tf.keras.layers.Conv2D(64, (3, 3), activation='relu', padding='same', name='Conv2')(x)\n",
        "    x = tf.keras.layers.GlobalAveragePooling2D()(x)\n",
        "    \n",
        "    outputs = tf.keras.layers.Dense(1, activation='sigmoid')(x)  # Binary output\n",
        "\n",
        "    return tf.keras.Model(inputs, outputs)\n",
        "\n",
        "# Compilazione del modello\n",
        "model = build_cnn_model(input_shape=(2800, 12))\n",
        "model.compile(\n",
        "    optimizer='adam',\n",
        "    loss='binary_crossentropy',\n",
        "    metrics=['accuracy', AUC(name='auc')]\n",
        ")\n",
        "\n",
        "model.summary()"
      ]
    },
    {
      "cell_type": "code",
      "execution_count": null,
      "metadata": {
        "colab": {
          "base_uri": "https://localhost:8080/",
          "height": 391
        },
        "id": "pgSG8AY6dtc0",
        "outputId": "60a7ae9f-1184-468b-b667-8378c35669b9"
      },
      "outputs": [],
      "source": [
        "# Callback: early stopping e salvataggio del modello migliore\n",
        "early_stop = EarlyStopping(monitor='val_auc', patience=6, min_delta=1e-3, mode='max', restore_best_weights=True)\n",
        "checkpoint = ModelCheckpoint(\"best_model.keras\", monitor='val_auc', mode='max', save_best_only=True)\n",
        "\n",
        "callbacks = [early_stop, checkpoint]\n",
        "\n",
        "# Training\n",
        "history = model.fit(\n",
        "    X_train, y_train,\n",
        "    validation_data=(X_val, y_val),\n",
        "    epochs=40,\n",
        "    batch_size=30,\n",
        "    callbacks=callbacks\n",
        ")"
      ]
    },
    {
      "cell_type": "markdown",
      "metadata": {},
      "source": [
        "Stampa un report che riassume il modello e le sue performance"
      ]
    },
    {
      "cell_type": "code",
      "execution_count": null,
      "metadata": {
        "colab": {
          "base_uri": "https://localhost:8080/",
          "height": 798
        },
        "id": "_Z3FjE1bqExO",
        "outputId": "71b72e49-3bbc-41be-9212-6bc94f41784a"
      },
      "outputs": [],
      "source": [
        "# NON MODIFICARE\n",
        "\n",
        "from models.utils import find_optimal_threshold\n",
        "from models.analysis import plot_full_report_and_metrics, plot_model_analysis\n",
        "from PIL import Image\n",
        "\n",
        "y_pred_probs = model.predict(X_val)\n",
        "threshold = find_optimal_threshold(y_val, y_pred_probs)\n",
        "\n",
        "img1 = plot_full_report_and_metrics(model, X_test, y_test, history, threshold, return_pillow=True)\n",
        "img2 = plot_model_analysis(model, X_test, y_test, y_test_info, threshold, return_pillow=True)\n",
        "\n",
        "# 1. Ridimensiona img2 all'altezza di img1, mantenendo le proporzioni\n",
        "new_height = int(img1.height * 1.2)\n",
        "new_width = int(img2.width * (new_height / img2.height))\n",
        "img2_resized = img2.resize((new_width, new_height), Image.LANCZOS)\n",
        "\n",
        "# 2. Calcola la nuova immagine\n",
        "total_width = img1.width + img2_resized.width\n",
        "max_height = max(img1.height, img2_resized.height)\n",
        "new_img = Image.new('RGB', (total_width, max_height), color=(255, 255, 255))\n",
        "\n",
        "# 3. Centra verticalmente img1 (se img1 è più bassa di max_height)\n",
        "y_offset_img1 = (max_height - img1.height) // 2\n",
        "y_offset_img2 = (max_height - img2_resized.height) // 2\n",
        "\n",
        "new_img.paste(img1, (0, y_offset_img1))\n",
        "new_img.paste(img2_resized, (img1.width, y_offset_img2))\n",
        "\n",
        "# 4. Visualizza nel notebook\n",
        "display(new_img)"
      ]
    }
  ],
  "metadata": {
    "accelerator": "GPU",
    "colab": {
      "collapsed_sections": [
        "O0A5uMhCaZCR"
      ],
      "gpuType": "T4",
      "machine_shape": "hm",
      "provenance": []
    },
    "kernelspec": {
      "display_name": "Python 3",
      "name": "python3"
    },
    "language_info": {
      "name": "python"
    }
  },
  "nbformat": 4,
  "nbformat_minor": 0
}
